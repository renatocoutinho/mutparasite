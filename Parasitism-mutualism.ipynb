{
 "metadata": {
  "name": "",
  "signature": "sha256:5b676794bb4d47b4f01256c01e2cf5777d1d688d96e5de89f2f56b6673f99393"
 },
 "nbformat": 3,
 "nbformat_minor": 0,
 "worksheets": [
  {
   "cells": [
    {
     "cell_type": "code",
     "collapsed": false,
     "input": [
      "%matplotlib inline\n",
      "\n",
      "from scipy.integrate import ode\n",
      "import numpy as np\n",
      "from matplotlib.pyplot import *\n",
      "\n",
      "def model(t, x, a, q, h, h_p, alpha, beta, mu, s, i_d, k):\n",
      "    xt = np.zeros(3) \n",
      "    \n",
      "    rho = 1 - x[0]/k\n",
      "    g = beta/x[2]\n",
      "    \n",
      "    theta = 1 + q*a*h*x[2] + (1 - q)*a*h_p*x[0]\n",
      "    xt[0] = x[0]*(rho - alpha*x[2]) - (1 - q)*(x[0]/theta)*a*x[1]\n",
      "    xt[1] = x[1]*a*(q*x[2] + (1 - q)*x[0])/theta - (mu + g)*x[1]\n",
      "    xt[2] = i_d*x[0] - s*x[2] - a*x[1]*q*x[2]/theta\n",
      "    \n",
      "    return xt\n",
      "\n",
      "def mutate_model(t, x, a, q, q_m, h, h_p, alpha, beta, mu, s, i_d, k):\n",
      "    xt = np.zeros(4) \n",
      "    \n",
      "    rho = 1 - x[0]/k\n",
      "    g = beta/x[2]\n",
      "    \n",
      "    theta = 1 + q*a*h*x[2] + (1 - q)*a*h_p*x[0]\n",
      "    theta_m = 1 + q_m*a*h*x[2] + (1 - q_m)*a*h_p*x[0]\n",
      "    xt[0] = x[0]*(rho - alpha*x[2]) - (1 - q)*(x[0]/theta)*a*x[1] - (1 - q_m)*(x[0]/theta_m)*a*x[3]\n",
      "    xt[1] = x[1]*a*(q*x[2] + (1 - q)*x[0])/theta - (mu + g)*x[1]\n",
      "    xt[2] = i_d*x[0] - s*x[2] - a*x[1]*q*x[2]/theta - a*x[3]*q_m*x[2]/theta_m \n",
      "    xt[3] = x[3]*a*(q_m*x[2] + (1 - q_m)*x[0])/theta_m - (mu + g)*x[3]\n",
      "    \n",
      "    return xt"
     ],
     "language": "python",
     "metadata": {},
     "outputs": [],
     "prompt_number": 126
    },
    {
     "cell_type": "code",
     "collapsed": false,
     "input": [
      "def integrate(func, x0, t0, tf, dt, *params):\n",
      "    r = ode(func).set_integrator('lsoda')\n",
      "    r.set_initial_value(x0, t0).set_f_params(*params)\n",
      "\n",
      "    series = []\n",
      "    while r.successful() and r.t < tf:\n",
      "        r.integrate(r.t + dt)\n",
      "        series.append(r.y)\n",
      "\n",
      "    return np.array(series)"
     ],
     "language": "python",
     "metadata": {},
     "outputs": [],
     "prompt_number": 95
    },
    {
     "cell_type": "code",
     "collapsed": false,
     "input": [
      "xo = np.array([0.6, 0.3, 0.2])\n",
      "# a, q, h, h_p, alpha, beta, mu, s, i_d, k\n",
      "a = 1\n",
      "q = 1\n",
      "h = 0.9\n",
      "h_p = 1\n",
      "alpha = 1 \n",
      "beta = 0.1\n",
      "mu = 0.1\n",
      "s = .01\n",
      "i_d = 1\n",
      "k = 1\n",
      "\n",
      "x = integrate(model, xo, 0, 40, 0.01, a, q, h, h_p, alpha, beta, mu, s, i_d, k)"
     ],
     "language": "python",
     "metadata": {},
     "outputs": [],
     "prompt_number": 121
    },
    {
     "cell_type": "code",
     "collapsed": false,
     "input": [
      "pyplot.plot(x[:, 0], label='H')\n",
      "pyplot.plot(x[:, 1], label='M')\n",
      "pyplot.plot(x[:, 2], label='D')\n",
      "legend()\n"
     ],
     "language": "python",
     "metadata": {},
     "outputs": [
      {
       "metadata": {},
       "output_type": "pyout",
       "prompt_number": 122,
       "text": [
        "<matplotlib.legend.Legend at 0x7f23ba6d54a8>"
       ]
      },
      {
       "metadata": {},
       "output_type": "display_data",
       "png": "[encoded data removed]",
       "text": [
        "<matplotlib.figure.Figure at 0x7f23ba6f1390>"
       ]
      }
     ],
     "prompt_number": 122
    },
    {
     "cell_type": "code",
     "collapsed": false,
     "input": [
      "xo = np.array([0.6, 0.5, 0.2, 0.001])\n",
      "# a, q, h, h_p, alpha, beta, mu, s, i_d, k\n",
      "a = 1\n",
      "q = 1\n",
      "q_m = 0.1\n",
      "h = 0.5\n",
      "h_p = 1\n",
      "alpha = 1 \n",
      "beta = 0.1\n",
      "mu = 0.1\n",
      "s = .01\n",
      "i_d = 1\n",
      "k = 1\n",
      "\n",
      "x = integrate(mutate_model, xo, 0, 200, 0.1, a, q, q_m, h, h_p, alpha, beta, mu, s, i_d, k)"
     ],
     "language": "python",
     "metadata": {},
     "outputs": [],
     "prompt_number": 127
    },
    {
     "cell_type": "code",
     "collapsed": false,
     "input": [
      "pyplot.plot(x[:, 0], label='H')\n",
      "pyplot.plot(x[:, 1], label='M')\n",
      "pyplot.plot(x[:, 2], label='D')\n",
      "pyplot.plot(x[:, 3], label='M_m')\n",
      "legend()"
     ],
     "language": "python",
     "metadata": {},
     "outputs": [
      {
       "metadata": {},
       "output_type": "pyout",
       "prompt_number": 128,
       "text": [
        "<matplotlib.legend.Legend at 0x7f23ba604860>"
       ]
      },
      {
       "metadata": {},
       "output_type": "display_data",
       "png": "[encoded data removed]",
       "text": [
        "<matplotlib.figure.Figure at 0x7f23ba64d4e0>"
       ]
      }
     ],
     "prompt_number": 128
    },
    {
     "cell_type": "markdown",
     "metadata": {},
     "source": [
      "## Mutualism vs. Parasitism\n",
      "\n",
      "Let's start with a simple model, that should contain the main mechanisms involved:\n",
      "\n",
      "$$ \\begin{aligned}\n",
      "    \\frac{dH}{dt} &= H (\\rho(H) - \\alpha D) - \\frac{(1-q)H}{1+qahD + (1-q)a h_P H} aM \\\\\n",
      "    \\frac{dM}{dt} &= \\frac{qD + (1-q)H}{1+qahD + (1-q)a h_P H} aM - (\\mu + g(D)) M \\\\\n",
      "    \\frac{dD}{dt} &= i_D H- sD - \\frac{qD}{1+qahD + (1-q)a h_P H} aM\n",
      "   \\end{aligned}$$\n",
      "\n",
      "The host population (or biomass) $H$ grows with a *per capita* birth rate of $\\rho$, which decreases in the presence of detritus ($D$). It is also affected by parasitism. Mutualists ($M$) feed on detritus, and have a constant mortality rate besides a death rate imposed by host cleaning ($c$), which depends on the amount of mutualists. They can also feed on the host itself, and the parameter $q$ determines the preference for detritus or host, so that $q=1$ corresponds to a \"pure\" mutualist that never attacks the host. We assume no other trade-offs between \"benign\" mutualists and those that parasitize the host as well- in particular, the host rubs them off with the same efficiency. Finally, detritus are continually depositing in the hosts, in a rate proportional to the number of hosts, while being consumed by the mutualists. The detritus may (or may not) have a rate of decomposition $s$.\n",
      "\n",
      "We can initially choose $\\rho = 1-H/K$ (logistic growth) and $g(D) = \\beta/D$. With these considerations, the basic model is in place, and we can ask the following questions:\n",
      "\n",
      "* under which conditions there is coexistence of hosts and mutualists?\n",
      "* what is the optimal preference $q$ for mutualists?\n",
      "* what is the optimal cleaning effort $\\beta$ for hosts?\n",
      "* is there an ESS when both $q$ and $\\beta$ are allowed to change?\n",
      "* how the effect of detritus on hosts (parameterized by $\\alpha$) can change the answers to the above?\n"
     ]
    },
    {
     "cell_type": "markdown",
     "metadata": {},
     "source": [
      "### Mutant mutualists\n",
      "\n",
      "$$ \\begin{aligned}\n",
      "    \\frac{dH}{dt} &= H (\\rho(H) - \\alpha D) - \\frac{(1-q)H}{1+qahD + (1-q)a h_P H} aM - \\frac{(1-q')H}{1+q'ahD + (1-q')a h_P H} aM' \\\\\n",
      "    \\frac{dM}{dt} &= \\frac{qD + (1-q)H}{1+qahD + (1-q)a h_P H} aM - (\\mu + g(D)) M \\\\\n",
      "    \\frac{dD}{dt} &= i_D H- sD - \\frac{qD}{1+qahD + (1-q)a h_P H} aM - \\frac{q'D}{1+q'ahD + (1-q')a h_P H} aM' \\\\\n",
      "    \\frac{dM'}{dt} &= \\frac{q'D + (1-q')H}{1+q'ahD + (1-q')a h_P H} aM' - (\\mu + g(D)) M'\n",
      "   \\end{aligned}$$\n"
     ]
    },
    {
     "cell_type": "markdown",
     "metadata": {},
     "source": [
      "### Fixed point analysis\n",
      "\n",
      "$$ \\begin{aligned}\n",
      "    H^\\ast &= 1-\\frac{\\alpha}{r} D^\\ast \\\\\n",
      "    M^\\ast &= \\frac{i_D \\left(1-\\frac{\\alpha}{r} -s\\right)}{a} \\\\\n",
      "    D^\\ast &= \\frac{\\beta a h + \\mu}{2a(1-\\mu h)} \\left[ \\sqrt{1+4a\\beta(1-\\mu h)} \\right]\n",
      "    \\end{aligned}$$\n",
      "\n",
      "Necessary conditions for coexistence:\n",
      "\n",
      "$$ \\begin{aligned}\n",
      "    \\mu h &< 1 \\\\\n",
      "    \\frac{\\alpha}{r} + s &< 1 \\\\\n",
      "    \\frac{\\alpha i_D}{r s} &<1\n",
      "   \\end{aligned}$$"
     ]
    },
    {
     "cell_type": "code",
     "collapsed": false,
     "input": [],
     "language": "python",
     "metadata": {},
     "outputs": []
    }
   ],
   "metadata": {}
  }
 ]
}